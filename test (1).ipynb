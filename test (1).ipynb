{
  "cells": [
    {
      "cell_type": "code",
      "execution_count": null,
      "metadata": {
        "colab": {
          "background_save": true
        },
        "id": "VPnWTofgcpib",
        "outputId": "3cf72a6f-e3df-45e0-956d-87b74e45dbc0"
      },
      "outputs": [
        {
          "name": "stdout",
          "output_type": "stream",
          "text": [
            "Drive already mounted at /content/drive; to attempt to forcibly remount, call drive.mount(\"/content/drive\", force_remount=True).\n"
          ]
        }
      ],
      "source": [
        "from google.colab import drive\n",
        "drive.mount('/content/drive')"
      ]
    },
    {
      "cell_type": "code",
      "execution_count": null,
      "metadata": {
        "colab": {
          "base_uri": "https://localhost:8080/"
        },
        "id": "OM4WGnsrcMre",
        "outputId": "a4a9f37d-03d1-4a9f-9789-7f27fe0fc149"
      },
      "outputs": [
        {
          "output_type": "stream",
          "name": "stdout",
          "text": [
            "Requirement already satisfied: easyocr in /usr/local/lib/python3.10/dist-packages (1.7.1)\n",
            "Requirement already satisfied: torch in /usr/local/lib/python3.10/dist-packages (from easyocr) (2.4.0+cu121)\n",
            "Requirement already satisfied: torchvision>=0.5 in /usr/local/lib/python3.10/dist-packages (from easyocr) (0.19.0+cu121)\n",
            "Requirement already satisfied: opencv-python-headless in /usr/local/lib/python3.10/dist-packages (from easyocr) (4.10.0.84)\n",
            "Requirement already satisfied: scipy in /usr/local/lib/python3.10/dist-packages (from easyocr) (1.13.1)\n",
            "Requirement already satisfied: numpy in /usr/local/lib/python3.10/dist-packages (from easyocr) (1.26.4)\n",
            "Requirement already satisfied: Pillow in /usr/local/lib/python3.10/dist-packages (from easyocr) (9.4.0)\n",
            "Requirement already satisfied: scikit-image in /usr/local/lib/python3.10/dist-packages (from easyocr) (0.23.2)\n",
            "Requirement already satisfied: python-bidi in /usr/local/lib/python3.10/dist-packages (from easyocr) (0.6.0)\n",
            "Requirement already satisfied: PyYAML in /usr/local/lib/python3.10/dist-packages (from easyocr) (6.0.2)\n",
            "Requirement already satisfied: Shapely in /usr/local/lib/python3.10/dist-packages (from easyocr) (2.0.6)\n",
            "Requirement already satisfied: pyclipper in /usr/local/lib/python3.10/dist-packages (from easyocr) (1.3.0.post5)\n",
            "Requirement already satisfied: ninja in /usr/local/lib/python3.10/dist-packages (from easyocr) (1.11.1.1)\n",
            "Requirement already satisfied: filelock in /usr/local/lib/python3.10/dist-packages (from torch->easyocr) (3.16.0)\n",
            "Requirement already satisfied: typing-extensions>=4.8.0 in /usr/local/lib/python3.10/dist-packages (from torch->easyocr) (4.12.2)\n",
            "Requirement already satisfied: sympy in /usr/local/lib/python3.10/dist-packages (from torch->easyocr) (1.13.2)\n",
            "Requirement already satisfied: networkx in /usr/local/lib/python3.10/dist-packages (from torch->easyocr) (3.3)\n",
            "Requirement already satisfied: jinja2 in /usr/local/lib/python3.10/dist-packages (from torch->easyocr) (3.1.4)\n",
            "Requirement already satisfied: fsspec in /usr/local/lib/python3.10/dist-packages (from torch->easyocr) (2024.6.1)\n",
            "Requirement already satisfied: imageio>=2.33 in /usr/local/lib/python3.10/dist-packages (from scikit-image->easyocr) (2.34.2)\n",
            "Requirement already satisfied: tifffile>=2022.8.12 in /usr/local/lib/python3.10/dist-packages (from scikit-image->easyocr) (2024.8.30)\n",
            "Requirement already satisfied: packaging>=21 in /usr/local/lib/python3.10/dist-packages (from scikit-image->easyocr) (24.1)\n",
            "Requirement already satisfied: lazy-loader>=0.4 in /usr/local/lib/python3.10/dist-packages (from scikit-image->easyocr) (0.4)\n",
            "Requirement already satisfied: MarkupSafe>=2.0 in /usr/local/lib/python3.10/dist-packages (from jinja2->torch->easyocr) (2.1.5)\n",
            "Requirement already satisfied: mpmath<1.4,>=1.1.0 in /usr/local/lib/python3.10/dist-packages (from sympy->torch->easyocr) (1.3.0)\n"
          ]
        }
      ],
      "source": [
        "!pip install easyocr"
      ]
    },
    {
      "cell_type": "code",
      "execution_count": null,
      "metadata": {
        "id": "PysP83WQc5L5"
      },
      "outputs": [],
      "source": [
        "DATASET_FOLDER = r'/content/drive/MyDrive/student_resource_3/dataset/'"
      ]
    },
    {
      "cell_type": "markdown",
      "metadata": {
        "id": "PJVwhUY6ftzh"
      },
      "source": []
    },
    {
      "cell_type": "code",
      "execution_count": null,
      "metadata": {
        "colab": {
          "base_uri": "https://localhost:8080/"
        },
        "id": "KtnwxWrgcKJW",
        "outputId": "611adefd-bc62-4c6f-c979-22c2748631e8"
      },
      "outputs": [
        {
          "output_type": "stream",
          "name": "stderr",
          "text": [
            "/usr/local/lib/python3.10/dist-packages/easyocr/detection.py:85: FutureWarning: You are using `torch.load` with `weights_only=False` (the current default value), which uses the default pickle module implicitly. It is possible to construct malicious pickle data which will execute arbitrary code during unpickling (See https://github.com/pytorch/pytorch/blob/main/SECURITY.md#untrusted-models for more details). In a future release, the default value for `weights_only` will be flipped to `True`. This limits the functions that could be executed during unpickling. Arbitrary objects will no longer be allowed to be loaded via this mode unless they are explicitly allowlisted by the user via `torch.serialization.add_safe_globals`. We recommend you start setting `weights_only=True` for any use case where you don't have full control of the loaded file. Please open an issue on GitHub for any issues related to this experimental feature.\n",
            "  net.load_state_dict(copyStateDict(torch.load(trained_model, map_location=device)))\n",
            "/usr/local/lib/python3.10/dist-packages/easyocr/recognition.py:182: FutureWarning: You are using `torch.load` with `weights_only=False` (the current default value), which uses the default pickle module implicitly. It is possible to construct malicious pickle data which will execute arbitrary code during unpickling (See https://github.com/pytorch/pytorch/blob/main/SECURITY.md#untrusted-models for more details). In a future release, the default value for `weights_only` will be flipped to `True`. This limits the functions that could be executed during unpickling. Arbitrary objects will no longer be allowed to be loaded via this mode unless they are explicitly allowlisted by the user via `torch.serialization.add_safe_globals`. We recommend you start setting `weights_only=True` for any use case where you don't have full control of the loaded file. Please open an issue on GitHub for any issues related to this experimental feature.\n",
            "  model.load_state_dict(torch.load(model_path, map_location=device))\n"
          ]
        },
        {
          "output_type": "stream",
          "name": "stdout",
          "text": [
            "24998\n",
            "8 3 L 26 39 cm cm C.\n",
            "24999\n",
            "5 31 5 7 31.75cm/12.5in 7 Sin 75cm/12.\n",
            "25000\n",
            "12CM 38CM 9.5CM\n",
            "Time taken: 1.03 seconds\n"
          ]
        }
      ],
      "source": [
        "import easyocr\n",
        "import re\n",
        "import cv2\n",
        "import numpy as np\n",
        "import pandas as pd\n",
        "import os\n",
        "import requests\n",
        "from io import BytesIO\n",
        "import matplotlib.pyplot as plt\n",
        "import concurrent.futures\n",
        "from concurrent.futures import ProcessPoolExecutor\n",
        "import time\n",
        "from PIL import Image\n",
        "# Initialize EasyOCR Reader\n",
        "reader = easyocr.Reader(['en'],gpu=True)\n",
        "\n",
        "train = pd.read_csv(os.path.join(DATASET_FOLDER, 'train.csv'))\n",
        "test = pd.read_csv(os.path.join(DATASET_FOLDER, 'test.csv'))\n",
        "sample_test = pd.read_csv(os.path.join(DATASET_FOLDER, 'sample_test.csv'))\n",
        "sample_test_out = pd.read_csv(os.path.join(DATASET_FOLDER, 'sample_test_out.csv'))\n",
        "#regex\n",
        "weight_pattern =   r'\\b\\d+(\\.\\d+)?\\s*(fl oz|oz|g|kg|grams?|kilograms?|kilogram|carat|ounce|pound|lb|mg|lbs|microgram|ton)\\b'\n",
        "volume_pattern =   r'\\b(\\d+\\.\\d+)?\\s*?(cup|millilitre|milliliter|litre|liter|decilitre|deciliter|pint|quart|gallon|centilitre|centiliter|ml|l|dl|gal|cl|cml)\\b'\n",
        "length_pattern =   r'\\b\\d+(\\.\\d+)?\\s*?(inch|foot|feet|metre|meter|centimetre|centimeter|millimetre|millimeter|cm|m|mm|in|ft|yd|yard)\\b'\n",
        "electricity_pattern =   r'\\b(\\d+(\\.\\d+)?)\\s*?(watt|kilowatt|kilowatts|horsepower|gigabyte?|volt|w|kw|hp|gb|v|bhp|V)\\b'\n",
        "light_pattern =  r'\\b(\\d+\\.\\d+)?\\s*?(candela|nits|cd|nit)\\b'\n",
        "other_pattern =   r'\\b\\d+(\\.\\d+)?\\s*?(person|persons|hour|hr|min|mins|sec|secs)\\b'\n",
        "#functions to check regex\n",
        "def check_length(text):\n",
        "    return re.finditer(length_pattern, text.lower())\n",
        "\n",
        "def check_volume(text):\n",
        "    return re.finditer(volume_pattern, text.lower())\n",
        "\n",
        "def check_electricity(text):\n",
        "    return re.finditer(electricity_pattern, text.lower())\n",
        "\n",
        "def check_light(text):\n",
        "    return re.finditer(light_pattern, text.lower())\n",
        "\n",
        "def check_other(text):\n",
        "    return re.finditer(other_pattern, text.lower())\n",
        "\n",
        "def check_weight(text):\n",
        "    return re.finditer(weight_pattern, text.lower())\n",
        "multiple_matches= []\n",
        "def process_row(index,row):\n",
        "    prediction = \"\"\n",
        "\n",
        "    image_url = row['image_link']\n",
        "    print(index)\n",
        "    # Fetch and process the image\n",
        "    response = requests.get(image_url)\n",
        "    if response.status_code == 200:\n",
        "        # Fetch image directly into a numpy array\n",
        "        image_np = np.frombuffer(response.content, np.uint8)\n",
        "        image_cv2 = cv2.imdecode(image_np, cv2.IMREAD_COLOR)\n",
        "\n",
        "        # Resize image early to a smaller size for faster processing\n",
        "        height, width = image_cv2.shape[:2]\n",
        "        new_width = 800  # Set desired width\n",
        "        new_height = int((new_width / width) * height)\n",
        "        image_resized = cv2.resize(image_cv2, (new_width, new_height), interpolation=cv2.INTER_AREA)\n",
        "\n",
        "        # Perform OCR with EasyOCR on the resized image\n",
        "        results = reader.readtext(image_resized)\n",
        "        text = ' '.join([result[1] for result in results])\n",
        "        print(text)\n",
        "        # Determine prediction based on entity_name\n",
        "        if row['entity_name'] == 'item_volume':\n",
        "            prediction = check_volume(text)\n",
        "        elif row['entity_name'] in ['height', 'width', 'depth']:\n",
        "            prediction = check_length(text)\n",
        "        elif row['entity_name'] == 'voltage' or row['entity_name'] == 'wattage':\n",
        "            prediction = check_electricity(text)\n",
        "        elif row['entity_name'] in ['item_weight', 'maximum_weight_recommendation']:\n",
        "            prediction = check_weight(text)\n",
        "        elif row['entity_name'] == 'other':\n",
        "            prediction = check_other(text)\n",
        "        else:\n",
        "            print(\"Entity name not recognized\")\n",
        " #concatenate matches\n",
        "    concatenated_matches = ', '.join([f\"{match[0]}\" for match in prediction])\n",
        "    multiple_matches.append(index)\n",
        "    row_df = pd.DataFrame({'index': [index], 'prediction': [concatenated_matches]})\n",
        "    return row_df\n",
        "\n",
        "if __name__ == '__main__':\n",
        "    test_out = pd.DataFrame(columns=['index', 'prediction'])\n",
        "    start = time.time()\n",
        "    test_from6361 = test.iloc\n",
        "    row_data = list(test_from6361.iterrows())\n",
        "    # Convert the results back to a DataFrame\n",
        "    for index,row in row_data:\n",
        "        results = process_row(index,row)\n",
        "        # print(results)\n",
        "        test_out = pd.concat([test_out, results], ignore_index=True)\n",
        "        test_out.to_csv(\"from_131187.csv\", index=False)\n",
        "    end_time = time.time()\n",
        "    print(f\"Time taken: {end_time - start:.2f} seconds\")\n"
      ]
    },
    {
      "cell_type": "code",
      "execution_count": null,
      "metadata": {
        "id": "Uumg7WT5czk4"
      },
      "outputs": [],
      "source": []
    }
  ],
  "metadata": {
    "colab": {
      "provenance": [],
      "gpuType": "T4"
    },
    "kernelspec": {
      "display_name": "Python 3",
      "name": "python3"
    },
    "language_info": {
      "name": "python"
    },
    "accelerator": "GPU"
  },
  "nbformat": 4,
  "nbformat_minor": 0
}